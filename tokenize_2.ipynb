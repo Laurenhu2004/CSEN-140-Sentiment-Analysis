{
 "cells": [
  {
   "cell_type": "code",
   "execution_count": 4,
   "metadata": {},
   "outputs": [],
   "source": [
    "from sklearn.feature_extraction.text import CountVectorizer\n",
    "from sklearn.linear_model import LogisticRegression"
   ]
  },
  {
   "cell_type": "code",
   "execution_count": 6,
   "metadata": {},
   "outputs": [
    {
     "name": "stdout",
     "output_type": "stream",
     "text": [
      "Sentiment: ['positive']\n"
     ]
    }
   ],
   "source": [
    "dataset = [\"I love this product\", \"This is the worst movie\", \"Amazing!\", \"Terrible experience\"]\n",
    "labels = [\"positive\", \"negative\", \"positive\", \"negative\"]\n",
    "vectorizer = CountVectorizer()\n",
    "X_train = vectorizer.fit_transform(dataset)\n",
    "\n",
    "model = LogisticRegression()\n",
    "model.fit(X_train, labels)\n",
    "\n",
    "test_text = [\"I hate this\"]\n",
    "X_test = vectorizer.transform(test_text)\n",
    "\n",
    "print(f\"Sentiment: {model.predict(X_test)}\")"
   ]
  }
 ],
 "metadata": {
  "kernelspec": {
   "display_name": "csen140-v2",
   "language": "python",
   "name": "python3"
  },
  "language_info": {
   "codemirror_mode": {
    "name": "ipython",
    "version": 3
   },
   "file_extension": ".py",
   "mimetype": "text/x-python",
   "name": "python",
   "nbconvert_exporter": "python",
   "pygments_lexer": "ipython3",
   "version": "3.11.10"
  }
 },
 "nbformat": 4,
 "nbformat_minor": 2
}
