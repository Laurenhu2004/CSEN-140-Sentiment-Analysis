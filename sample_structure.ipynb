{
 "cells": [
  {
   "cell_type": "code",
   "execution_count": 1,
   "metadata": {},
   "outputs": [],
   "source": [
    "from collections import defaultdict\n",
    "import math"
   ]
  },
  {
   "cell_type": "code",
   "execution_count": 2,
   "metadata": {},
   "outputs": [],
   "source": [
    "def preprocess(text):\n",
    "    text = text.lower()\n",
    "    tokens = ''.join([char if char.isalnum() or char.isspace() else ' ' for char in text]).split()\n",
    "    stopwords = {'is', 'the', 'a', 'and', 'in', 'on', 'to', 'of'}\n",
    "    tokens = [token for token in tokens if token not in stopwords]\n",
    "    return tokens"
   ]
  },
  {
   "cell_type": "code",
   "execution_count": 3,
   "metadata": {},
   "outputs": [],
   "source": [
    "def create_vocab(dataset):\n",
    "    vocab = set()\n",
    "    for text in dataset:\n",
    "        vocab.update(preprocess(text))\n",
    "    return list(vocab)\n",
    "\n",
    "def text_to_vector(text, vocab):\n",
    "    vector = [0] * len(vocab)\n",
    "    tokens = preprocess(text)\n",
    "    for token in tokens:\n",
    "        if token in vocab:\n",
    "            vector[vocab.index(token)] += 1\n",
    "    return vector"
   ]
  },
  {
   "cell_type": "code",
   "execution_count": 4,
   "metadata": {},
   "outputs": [],
   "source": [
    "class NaiveBayes:\n",
    "    def __init__(self):\n",
    "        self.class_probs = defaultdict(float)\n",
    "        self.word_probs = defaultdict(lambda: defaultdict(float))\n",
    "\n",
    "    def train(self, texts, labels):\n",
    "        class_counts = defaultdict(int)\n",
    "        word_counts = defaultdict(lambda: defaultdict(int))\n",
    "        total_docs = len(texts)\n",
    "        vocab = set()\n",
    "        \n",
    "        for text, label in zip(texts, labels):\n",
    "            class_counts[label] += 1\n",
    "            tokens = preprocess(text)\n",
    "            for token in tokens:\n",
    "                vocab.add(token)\n",
    "                word_counts[label][token] += 1\n",
    "        \n",
    "        self.class_probs = {cls: count / total_docs for cls, count in class_counts.items()}\n",
    "        self.word_probs = {\n",
    "            cls: {word: (word_counts[cls][word] + 1) / (sum(word_counts[cls].values()) + len(vocab))\n",
    "                  for word in vocab}\n",
    "            for cls in class_counts\n",
    "        }\n",
    "\n",
    "    def predict(self, text):\n",
    "        tokens = preprocess(text)\n",
    "        class_scores = {}\n",
    "        \n",
    "        for cls in self.class_probs:\n",
    "            log_prob = math.log(self.class_probs[cls])\n",
    "            for token in tokens:\n",
    "                if token in self.word_probs[cls]:\n",
    "                    log_prob += math.log(self.word_probs[cls][token])\n",
    "            class_scores[cls] = log_prob\n",
    "        \n",
    "        return max(class_scores, key=class_scores.get)"
   ]
  },
  {
   "cell_type": "code",
   "execution_count": 5,
   "metadata": {},
   "outputs": [],
   "source": [
    "def evaluate(predictions, labels):\n",
    "    correct = sum(1 for p, l in zip(predictions, labels) if p == l)\n",
    "    accuracy = correct / len(labels)\n",
    "    return accuracy"
   ]
  },
  {
   "cell_type": "code",
   "execution_count": 6,
   "metadata": {},
   "outputs": [
    {
     "name": "stdout",
     "output_type": "stream",
     "text": [
      "Sentiment: positive\n"
     ]
    }
   ],
   "source": [
    "dataset = [\"I love this product\", \"This is the worst movie\", \"Amazing!\", \"Terrible experience\"]\n",
    "labels = [\"positive\", \"negative\", \"positive\", \"negative\"]\n",
    "\n",
    "vocab = create_vocab(dataset)\n",
    "vectors = [text_to_vector(text, vocab) for text in dataset]\n",
    "\n",
    "model = NaiveBayes()\n",
    "model.train(dataset, labels)\n",
    "\n",
    "test_text = \"I hate this\"\n",
    "print(f\"Sentiment: {model.predict(test_text)}\")"
   ]
  }
 ],
 "metadata": {
  "kernelspec": {
   "display_name": "project140",
   "language": "python",
   "name": "python3"
  },
  "language_info": {
   "codemirror_mode": {
    "name": "ipython",
    "version": 3
   },
   "file_extension": ".py",
   "mimetype": "text/x-python",
   "name": "python",
   "nbconvert_exporter": "python",
   "pygments_lexer": "ipython3",
   "version": "3.10.15"
  }
 },
 "nbformat": 4,
 "nbformat_minor": 2
}
